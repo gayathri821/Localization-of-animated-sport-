{
 "cells": [
  {
   "cell_type": "markdown",
   "id": "3fd1b3da",
   "metadata": {},
   "source": [
    "# Adaptive threshold"
   ]
  },
  {
   "cell_type": "code",
   "execution_count": null,
   "id": "ea0eacec",
   "metadata": {},
   "outputs": [],
   "source": [
    "import cv2\n",
    "cascPathface = \"C:/Users/Gayathri/OneDrive/Documents/Cartoon Detection System/adaptive-threshold/classifier/adadtive-threshold-cascade.xml\"\n",
    "\n",
    "# load the harcaascade in the cascade classifier\n",
    "Cascade = cv2.CascadeClassifier(cascPathface)\n",
    "image = cv2.imread(\"C:/Users/Gayathri/OneDrive/Documents/Cartoon Detection System/adaptive-threshold/a7.jpg\", cv2.IMREAD_COLOR)\n",
    "gray = cv2.cvtColor(image, cv2.COLOR_BGR2GRAY)\n",
    "thr = cv2.adaptiveThreshold(gray,255,cv2.ADAPTIVE_THRESH_GAUSSIAN_C,cv2.THRESH_BINARY,11,2)\n",
    "cartoons = Cascade.detectMultiScale(thr, scaleFactor=1.1, minNeighbors=5, minSize=(60, 60), flags=cv2.CASCADE_SCALE_IMAGE)\n",
    "\n",
    "for(x,y,w,h) in cartoons:\n",
    "    area=w*h\n",
    "    cv2.rectangle(image, (x, y), (x + w, y + h), (0, 255, 0), 2)\n",
    "    cv2.putText(image, \"Cartoon Spotted\", (x, y), cv2.FONT_HERSHEY_SIMPLEX, 0.75, (0, 255, 0), 2)\n",
    "cv2.imshow(\"image\", image)\n",
    "cv2.waitKey(0)\n",
    "\n",
    "# It is for removing/deleting created GUI window from screen and memory\n",
    "cv2.destroyAllWindows()"
   ]
  },
  {
   "cell_type": "markdown",
   "id": "ded102b7",
   "metadata": {},
   "source": [
    "# Otsu threshold"
   ]
  },
  {
   "cell_type": "code",
   "execution_count": null,
   "id": "7c10dc35",
   "metadata": {},
   "outputs": [],
   "source": [
    "#v2\n",
    "import cv2\n",
    "cascPathface = \"C:/Users/Gayathri/OneDrive/Documents/Cartoon Detection System/otsu-threshold/classifier/cascade.xml\"\n",
    "\n",
    "# load the harcaascade in the cascade classifier\n",
    "Cascade = cv2.CascadeClassifier(cascPathface)\n",
    "image = cv2.imread(\"C:/Users/Gayathri/OneDrive/Documents/Cartoon Detection System/otsu-threshold/true2.jpg\", cv2.IMREAD_COLOR)\n",
    "gray = cv2.cvtColor(image, cv2.COLOR_BGR2GRAY)\n",
    "ret2,thr = cv2.threshold(gray,0,255,cv2.THRESH_BINARY+cv2.THRESH_OTSU)\n",
    "cartoons = Cascade.detectMultiScale(thr, scaleFactor=1.1, minNeighbors=5, minSize=(60, 60), flags=cv2.CASCADE_SCALE_IMAGE)\n",
    "\n",
    "for(x,y,w,h) in cartoons:\n",
    "    area=w*h\n",
    "    cv2.rectangle(image, (x, y), (x + w, y + h), (0, 255, 0), 2)\n",
    "    cv2.putText(image, \"Cartoon Spotted\", (x, y), cv2.FONT_HERSHEY_SIMPLEX, 0.75, (0, 255, 0), 2)\n",
    "cv2.imshow(\"image\", image)\n",
    "cv2.waitKey(0)\n",
    " \n",
    "# It is for removing/deleting created GUI window from screen and memory\n",
    "cv2.destroyAllWindows()"
   ]
  },
  {
   "cell_type": "markdown",
   "id": "4bf6a173",
   "metadata": {},
   "source": [
    "# K-mean clustering algorithm"
   ]
  },
  {
   "cell_type": "code",
   "execution_count": null,
   "id": "30d2d0fe",
   "metadata": {},
   "outputs": [],
   "source": [
    "#Kmeans Clustering\n",
    "import cv2\n",
    "import numpy as np\n",
    "cascPathface = \"C:/Users/Gayathri/OneDrive/Documents/Cartoon Detection System/Kmeans/classifier/cascade.xml\"\n",
    "\n",
    "# load the harcaascade in the cascade classifier\n",
    "Cascade = cv2.CascadeClassifier(cascPathface)\n",
    "image = cv2.imread(\"C:/Users/Gayathri/OneDrive/Documents/Cartoon Detection System/kmeans/true2.jpg\", cv2.IMREAD_COLOR)\n",
    "\n",
    "Z = image.reshape(-1,3)\n",
    "Z = np.float32(Z)\n",
    "criteria = (cv2.TERM_CRITERIA_EPS + cv2.TERM_CRITERIA_MAX_ITER, 10, 1.0)\n",
    "K = 8\n",
    "ret,label,center=cv2.kmeans(Z,K,None,criteria,10,cv2.KMEANS_RANDOM_CENTERS)\n",
    "center = np.uint8(center)\n",
    "res = center[label.flatten()]\n",
    "image = res.reshape((image.shape))\n",
    "\n",
    "cartoons = Cascade.detectMultiScale(image, scaleFactor=1.1, minNeighbors=5, minSize=(60, 60), flags=cv2.CASCADE_SCALE_IMAGE)\n",
    "\n",
    "for(x,y,w,h) in cartoons:\n",
    "    area=w*h\n",
    "    cv2.rectangle(image, (x, y), (x + w, y + h), (0, 255, 0), 2)\n",
    "    cv2.putText(image, \"Cartoon Spotted\", (x, y), cv2.FONT_HERSHEY_SIMPLEX, 0.75, (0, 255, 0), 2)\n",
    "    \n",
    "cv2.imshow(\"image\", image)\n",
    "cv2.waitKey(0)\n",
    " \n",
    "# It is for removing/deleting created GUI window from screen and memory\n",
    "cv2.destroyAllWindows()"
   ]
  },
  {
   "cell_type": "code",
   "execution_count": null,
   "id": "c0829459",
   "metadata": {},
   "outputs": [],
   "source": []
  }
 ],
 "metadata": {
  "kernelspec": {
   "display_name": "Python 3 (ipykernel)",
   "language": "python",
   "name": "python3"
  },
  "language_info": {
   "codemirror_mode": {
    "name": "ipython",
    "version": 3
   },
   "file_extension": ".py",
   "mimetype": "text/x-python",
   "name": "python",
   "nbconvert_exporter": "python",
   "pygments_lexer": "ipython3",
   "version": "3.9.13"
  }
 },
 "nbformat": 4,
 "nbformat_minor": 5
}
